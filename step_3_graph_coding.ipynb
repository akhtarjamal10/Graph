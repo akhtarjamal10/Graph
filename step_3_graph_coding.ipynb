{
 "cells": [
  {
   "cell_type": "code",
   "execution_count": 10,
   "id": "7fad7b68",
   "metadata": {},
   "outputs": [],
   "source": [
    "def vertex_degrees(graph): # graph is a dict of lists\n",
    "    degree_dict = {v: len(neighbors) for v, neighbors in graph.items()} # Create a dictionary with vertex degrees\n",
    "    sorted_by_degree = dict(sorted(degree_dict.items(), key=lambda x: x[1])) # Sort the dictionary by degree\n",
    "    return sorted_by_degree # Return the sorted dictionary"
   ]
  },
  {
   "cell_type": "code",
   "execution_count": null,
   "id": "025ae099",
   "metadata": {},
   "outputs": [],
   "source": [
    "# Adjacency List to Matrix\n",
    "def adj_list_to_matrix(adj_list): # adj_list is a dict of lists\n",
    "    nodes = sorted(adj_list) # Sort the nodes to maintain a consistent order\n",
    "    size = len(nodes) # Get the size of the matrix\n",
    "    matrix = [[0]*size for _ in range(size)] # Initialize the matrix with zeros\n",
    "    node_index = {node: i for i, node in enumerate(nodes)} # Create a mapping from node to index\n",
    "    for src, neighbors in adj_list.items(): # For each source node and its neighbors\n",
    "        for dest in neighbors: # For each destination node\n",
    "            matrix[node_index[src]][node_index[dest]] = 1 # Set the matrix entry to 1\n",
    "    return matrix # Return the adjacency matrix`\n",
    "# Matrix to Adjacency List\n",
    "def matrix_to_adj_list(matrix): # matrix is a 2D list\n",
    "    n = len(matrix) # Get the size of the matrix\n",
    "    adj_list = {i: [] for i in range(n)} # Initialize the adjacency list\n",
    "    for i in range(n): # For each row in the matrix\n",
    "        for j in range(n): # For each column in the matrix\n",
    "            if matrix[i][j]: # If there is an edge\n",
    "                adj_list[i].append(j) # Add the edge to the adjacency list\n",
    "    return adj_list # Return the adjacency list\n",
    "\n",
    "# Adjacency List to Edge List\n",
    "def adj_list_to_edge_list(adj_list): # adj_list is a dict of lists\n",
    "    edges = set() # Use a set to avoid duplicates\n",
    "    for u in adj_list: # For each vertex in the adjacency list\n",
    "        for v in adj_list[u]: # For each neighbor of the vertex\n",
    "            if (v, u) not in edges: # Avoid adding the reverse edge\n",
    "                edges.add((u, v)) # Add the edge to the set\n",
    "    return list(edges) # Return the edge list as a list of tuples\n",
    "\n",
    "# Edge List to Adjacency List\n",
    "def edge_list_to_adj_list(edge_list): # edge_list is a list of tuples\n",
    "    adj_list = {} # Initialize the adjacency list\n",
    "    for u, v in edge_list: # For each edge in the edge list\n",
    "        adj_list.setdefault(u, []).append(v) # Add the edge to the adjacency list\n",
    "        adj_list.setdefault(v, []).append(u) # Add the reverse edge\n",
    "    return adj_list # Return the adjacency list\n"
   ]
  },
  {
   "cell_type": "code",
   "execution_count": null,
   "id": "d21cb7f3",
   "metadata": {},
   "outputs": [],
   "source": [
    "def are_adjacent(graph, u, v): # graph is a dict of lists   \n",
    "    return v in graph.get(u, [])    # Check if u and v are adjacent in the graph\n"
   ]
  },
  {
   "cell_type": "code",
   "execution_count": null,
   "id": "3967af0c",
   "metadata": {},
   "outputs": [],
   "source": [
    "def is_complete(graph): # graph is a dict of lists\n",
    "    n = len(graph) # Get the number of vertices\n",
    "    for v, neighbors in graph.items(): # For each vertex and its neighbors\n",
    "        if len(neighbors) != n - 1: # If the number of neighbors is not n-1\n",
    "            return False # The graph is not complete\n",
    "    return True # The graph is complete\n"
   ]
  },
  {
   "cell_type": "code",
   "execution_count": null,
   "id": "0f705a9a",
   "metadata": {},
   "outputs": [],
   "source": [
    "def is_connected(graph): # graph is a dict of lists\n",
    "    visited = set() # Set to keep track of visited nodes\n",
    "    def dfs(v): # Depth First Search function\n",
    "        visited.add(v) # Mark the current node as visited\n",
    "        for neighbor in graph[v]: # For each neighbor of the current node\n",
    "            if neighbor not in visited: # If the neighbor has not been visited\n",
    "                dfs(neighbor) # Recursively visit the neighbor\n",
    "    first_node = next(iter(graph)) # Get an arbitrary starting node\n",
    "    dfs(first_node) # Start DFS from the first node\n",
    "    return len(visited) == len(graph) # Check if all nodes were visited\n"
   ]
  },
  {
   "cell_type": "code",
   "execution_count": null,
   "id": "38da05b4",
   "metadata": {},
   "outputs": [],
   "source": [
    "def classify_sequence(graph, vertices): \n",
    "    # This function classifies a sequence of vertices in a graph as a \"Path\", \"Trail\", \"Walk\", or \"None\".\n",
    "    # A \"Path\" is a sequence where all edges are distinct, and all vertices are distinct.\n",
    "    # A \"Trail\" is a sequence where all edges are distinct, but vertices may repeat.\n",
    "    # A \"Walk\" is a sequence where edges may repeat.\n",
    "    # \"None\" is returned if the sequence is invalid (i.e., not all consecutive vertices are connected).\n",
    "\n",
    "    if not all(vertices[i+1] in graph[vertices[i]] for i in range(len(vertices)-1)): \n",
    "        # Check if every consecutive pair of vertices in the sequence is connected by an edge in the graph.\n",
    "        # If any pair of consecutive vertices is not connected, return \"None\".\n",
    "        return \"None\"\n",
    "    \n",
    "    edges = [(vertices[i], vertices[i+1]) for i in range(len(vertices)-1)]\n",
    "    # Create a list of edges from the sequence of vertices.\n",
    "    # Each edge is represented as a tuple (current_vertex, next_vertex).\n",
    "\n",
    "    edges_set = set(edges) | set((b, a) for a, b in edges)\n",
    "    # Create a set of edges, including both (a, b) and (b, a) for undirected graphs.\n",
    "    # This ensures that edges are treated as undirected.\n",
    "\n",
    "    if len(edges) == len(edges_set) // 2:\n",
    "        # Check if the number of edges in the sequence matches the number of unique undirected edges.\n",
    "        # If true, it means all edges in the sequence are distinct.\n",
    "\n",
    "        if len(set(vertices)) == len(vertices):\n",
    "            # Check if all vertices in the sequence are distinct.\n",
    "            # If true, classify the sequence as a \"Path\".\n",
    "            return \"Path\"\n",
    "        else:\n",
    "            # If vertices are not distinct but edges are distinct, classify the sequence as a \"Trail\".\n",
    "            return \"Trail\"\n",
    "    \n",
    "    # If edges are not distinct, classify the sequence as a \"Walk\".\n",
    "    return \"Walk\""
   ]
  },
  {
   "cell_type": "code",
   "execution_count": null,
   "id": "5370cc9b",
   "metadata": {},
   "outputs": [],
   "source": [
    "def is_tree(graph): # graph is a dict of lists\n",
    "    visited = set() # Make sure to use a set for visited nodes\n",
    "    parent = {} # Dictionary to keep track of parent nodes\n",
    "\n",
    "    def dfs(v, par): # Depth First Search function\n",
    "        visited.add(v) # Mark the current node as visited\n",
    "        for neighbor in graph[v]: # Iterate through all neighbors of the current node\n",
    "            if neighbor == par: # Skip the parent node to avoid false cycles\n",
    "                continue  \n",
    "            if neighbor in visited or not dfs(neighbor, v): # If the neighbor is already visited or if dfs returns False\n",
    "                return False # If the neighbor is already visited or if dfs returns False, return False\n",
    "        return True # If all neighbors are visited correctly, return True\n",
    "\n",
    "    start = next(iter(graph)) # Get the first node to start DFS\n",
    "    if not dfs(start, None): # If DFS returns False, the graph is not a tree\n",
    "        return False  \n",
    "    return len(visited) == len(graph) # Check if all nodes were visited\n"
   ]
  },
  {
   "cell_type": "code",
   "execution_count": null,
   "id": "4cd408e7",
   "metadata": {},
   "outputs": [],
   "source": [
    "def spanning_tree(graph):  # Create a spanning tree from the given graph using DFS\n",
    "    tree = {v: [] for v in graph} # Initialize the spanning tree\n",
    "    visited = set() # Set to keep track of visited nodes\n",
    "\n",
    "    def dfs(v):  # Depth First Search function\n",
    "        visited.add(v) # Mark the current node as visited\n",
    "\n",
    "        for u in graph[v]: # Iterate through all neighbors of the current node\n",
    "            if u not in visited:   # If the neighbor is not visited\n",
    "                tree[v].append(u) # Add the edge to the spanning tree\n",
    "                tree[u].append(v) # Add the reverse edge for undirected graph\n",
    "                dfs(u) # Recursively call dfs for the neighbor\n",
    "\n",
    "    start = next(iter(graph)) # Get the first node to start DFS\n",
    "    dfs(start) # Start DFS from the first node\n",
    "    return tree # Return the spanning tree\n"
   ]
  },
  {
   "cell_type": "code",
   "execution_count": null,
   "id": "5df15e47",
   "metadata": {},
   "outputs": [],
   "source": [
    "def count_leaf_nodes(tree): # Count the number of leaf nodes in the spanning tree\n",
    "    return sum(1 for v in tree if len(tree[v]) == 1) # Count the number of leaf nodes in the tree\n"
   ]
  },
  {
   "cell_type": "code",
   "execution_count": null,
   "id": "d36ae7c7",
   "metadata": {},
   "outputs": [],
   "source": [
    "def is_binary_tree(tree): # Check if the given tree is a binary tree\n",
    "    return all(len(neighbors) <= 3 for neighbors in tree.values())  # 2 children + 1 parent\n"
   ]
  },
  {
   "cell_type": "code",
   "execution_count": null,
   "id": "a900e579",
   "metadata": {},
   "outputs": [],
   "source": [
    "def node_height(tree, node): # Calculate the height of a node in the tree\n",
    "    def dfs(v, parent): # Helper function to perform DFS and calculate height\n",
    "        heights = [dfs(u, v) for u in tree[v] if u != parent] # Recursively calculate the height of each child node\n",
    "        return 1 + max(heights, default=-1) # Return the height of the current node\n",
    "    return dfs(node, None) # Start DFS from the given node and return its height\n"
   ]
  },
  {
   "cell_type": "code",
   "execution_count": null,
   "id": "40292bbb",
   "metadata": {},
   "outputs": [],
   "source": [
    "def node_depth(tree, root, target): # Calculate the depth of a target node in the tree\n",
    "    def dfs(v, depth, parent): # Helper function to perform DFS and calculate depth\n",
    "        if v == target: # If the target node is found, return the current depth\n",
    "            return depth # Return the depth of the target node\n",
    "        for u in tree[v]: # Iterate through all neighbors of the current node\n",
    "            if u != parent: # Skip the parent node to avoid going back\n",
    "                d = dfs(u, depth+1, v) # Recursively call dfs for the neighbor\n",
    "                if d != -1: # If the target node is found in the subtree, return the depth\n",
    "                    return d \n",
    "        return -1 # If the target node is not found in the subtree, return -1\n",
    "    return dfs(root, 0, None) # Start DFS from the root node and return the depth of the target node\n"
   ]
  },
  {
   "cell_type": "code",
   "execution_count": null,
   "id": "e03b1e7f",
   "metadata": {},
   "outputs": [],
   "source": []
  }
 ],
 "metadata": {
  "kernelspec": {
   "display_name": "Python 3",
   "language": "python",
   "name": "python3"
  },
  "language_info": {
   "codemirror_mode": {
    "name": "ipython",
    "version": 3
   },
   "file_extension": ".py",
   "mimetype": "text/x-python",
   "name": "python",
   "nbconvert_exporter": "python",
   "pygments_lexer": "ipython3",
   "version": "3.13.2"
  }
 },
 "nbformat": 4,
 "nbformat_minor": 5
}
